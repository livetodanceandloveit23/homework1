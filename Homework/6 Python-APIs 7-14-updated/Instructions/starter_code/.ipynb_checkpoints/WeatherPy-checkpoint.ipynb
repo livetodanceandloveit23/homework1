{
 "cells": [
  {
   "cell_type": "markdown",
   "metadata": {},
   "source": [
    "# WeatherPy\n",
    "----\n",
    "\n",
    "#### Note\n",
    "* Instructions have been included for each segment. You do not have to follow them exactly, but they are included to help you think through the steps."
   ]
  },
  {
   "cell_type": "code",
   "execution_count": 7,
   "metadata": {
    "scrolled": true
   },
   "outputs": [],
   "source": [
    "# Dependencies and Setup\n",
    "import matplotlib.pyplot as plt\n",
    "import pandas as pd\n",
    "import numpy as np\n",
    "import requests\n",
    "import time\n",
    "import sys\n",
    "\n",
    "# Import API key\n",
    "from api_keys import api_key\n",
    "\n",
    "# Incorporated citipy to determine city based on latitude and longitude\n",
    "from citipy import citipy\n",
    "\n",
    "# Output File (CSV)\n",
    "output_data_file = \"output_data/cities.csv\"\n",
    "\n",
    "# Range of latitudes and longitudes\n",
    "lat_range = (-90, 90)\n",
    "long_range = (-180, 180)"
   ]
  },
  {
   "cell_type": "markdown",
   "metadata": {},
   "source": [
    "## Generate Cities List"
   ]
  },
  {
   "cell_type": "code",
   "execution_count": 8,
   "metadata": {},
   "outputs": [
    {
     "data": {
      "text/plain": [
       "538"
      ]
     },
     "execution_count": 8,
     "metadata": {},
     "output_type": "execute_result"
    }
   ],
   "source": [
    "# List for holding lat_lngs and cities\n",
    "lat_long = []\n",
    "cities = []\n",
    "\n",
    "# Create a set of random lat and lng combinations\n",
    "lats = np.random.uniform(low=-100.000, high=100.000, size=1500)\n",
    "longs = np.random.uniform(low=-200.000, high=200.000, size=1500)\n",
    "lat_longs = zip(lats, longs)\n",
    "\n",
    "# Identify nearest city for each lat, lng combination\n",
    "for lat_long in lat_longs:\n",
    "    city = citipy.nearest_city(lat_long[0], lat_long[1]).city_name\n",
    "    \n",
    "    # If the city is unique, then add it to a our cities list\n",
    "    if city not in cities:\n",
    "        cities.append(city)\n",
    "\n",
    "# Print the city count to confirm sufficient count\n",
    "len(cities)"
   ]
  },
  {
   "cell_type": "markdown",
   "metadata": {},
   "source": [
    "### Perform API Calls\n",
    "* Perform a weather check on each city using a series of successive API calls.\n",
    "* Include a print log of each city as it'sbeing processed (with the city number and city name).\n"
   ]
  },
  {
   "cell_type": "code",
   "execution_count": 9,
   "metadata": {},
   "outputs": [],
   "source": [
    "# get_key = api_keys.get_key\n",
    "\n",
    "url = \"http://api.openweathermap.org/data/2.5/weather?units=Imperial&APPID=\" + api_key"
   ]
  },
  {
   "cell_type": "code",
   "execution_count": null,
   "metadata": {},
   "outputs": [
    {
     "name": "stdout",
     "output_type": "stream",
     "text": [
      "Beginning Data Retrieval\n",
      "-------------------------------\n",
      "dokaDoka\n",
      "Oops! <class 'TypeError'> occured.\n",
      "yularaYulara\n",
      "Oops! <class 'TypeError'> occured.\n",
      "kloulklubedKloulklubed\n",
      "Oops! <class 'TypeError'> occured.\n",
      "Oops! <class 'KeyError'> occured.\n",
      "evenskEvensk\n",
      "Oops! <class 'TypeError'> occured.\n",
      "barrowBarrow\n",
      "Oops! <class 'TypeError'> occured.\n",
      "ushuaiaUshuaia\n",
      "Oops! <class 'TypeError'> occured.\n",
      "Oops! <class 'KeyError'> occured.\n",
      "pimentelPimentel\n",
      "Oops! <class 'TypeError'> occured.\n",
      "san cristobalSan Cristobal\n",
      "Oops! <class 'TypeError'> occured.\n",
      "Oops! <class 'KeyError'> occured.\n",
      "waipawaWaipawa\n",
      "Oops! <class 'TypeError'> occured.\n",
      "diksonDikson\n",
      "Oops! <class 'TypeError'> occured.\n",
      "ribeira grandeRibeira Grande\n",
      "Oops! <class 'TypeError'> occured.\n",
      "punta de piedraPunta de Piedra\n",
      "Oops! <class 'TypeError'> occured.\n",
      "Oops! <class 'KeyboardInterrupt'> occured.\n",
      "guymonGuymon\n",
      "Oops! <class 'TypeError'> occured.\n",
      "Oops! <class 'KeyError'> occured.\n",
      "longyearbyenLongyearbyen\n",
      "Oops! <class 'TypeError'> occured.\n"
     ]
    }
   ],
   "source": [
    "# Create empty lists to append the API data into lists \n",
    "city  = []\n",
    "cloudy = []\n",
    "cntry = []\n",
    "dte = []\n",
    "humidity = []\n",
    "lat = []\n",
    "long = []\n",
    "max_temp = []\n",
    "wind_speed = []\n",
    "\n",
    "# Start the call counter \n",
    "record = 1\n",
    "\n",
    "# Log file print statement\n",
    "print(f\"Beginning Data Retrieval\")\n",
    "print(f\"-------------------------------\")\n",
    "\n",
    "#Loop through the cities in the city list \n",
    "for city in cities:  \n",
    "    \n",
    "    # Try statement to append calls where value is found \n",
    "    # Not all calls return data as OpenWeatherMap will not have have records in all the cities generated by CityPy module\n",
    "    try: \n",
    "        response = requests.get(f\"{url}&q={city}\").json() \n",
    "        city += (response[\"name\"])\n",
    "        print(city)\n",
    "        cloudy += (response[\"clouds\"]['all'])\n",
    "        print(cloudy)\n",
    "        cntry += (response[\"sys\"][\"country\"])\n",
    "        print(cntry)        \n",
    "        humidity += (response[\"main\"][\"humidity\"])\n",
    "        print(humidity)\n",
    "        max_temp.append(response[\"main\"][\"temp_max\"])\n",
    "        print(max_temp)\n",
    "        lat.append(response[\"coord\"][\"lat\"])\n",
    "        long.append(response[\"coord\"][\"lon\"])\n",
    "        wind_speed.append(response[\"wind\"][\"speed\"])\n",
    "        city_record = response[\"name\"]\n",
    "        print(f\"Processing Record {record} | {city}\")\n",
    "        print(f\"{url}&q={city}\")\n",
    "        \n",
    "        # Increase counter by one \n",
    "        record= record + 1\n",
    "        \n",
    "        # Wait a second in loop to not over exceed rate limit of API\n",
    "        time.sleep(1.01)\n",
    "        \n",
    "    # If no record found \"skip\" to next call\n",
    "    except:\n",
    "        print(\"Oops!\",sys.exc_info()[0],\"occured.\")\n",
    "        # print(\"City not found. Skipping...\")\n",
    "    continue"
   ]
  },
  {
   "cell_type": "code",
   "execution_count": null,
   "metadata": {},
   "outputs": [],
   "source": [
    "### Convert Raw Data to DataFrame\n",
    "* Export the city data into a .csv.\n",
    "* Display the DataFrame"
   ]
  },
  {
   "cell_type": "code",
   "execution_count": null,
   "metadata": {},
   "outputs": [],
   "source": [
    "# Create a dictonary with the lists generated\n",
    "weatherpy_dict = {\n",
    "    \"City\": city_name,\n",
    "    \"Cloudiness\":cloudiness, \n",
    "    \"Country\":country,\n",
    "    \"Date\":date, \n",
    "    \"Humidity\": humidity,\n",
    "    \"Lat\":lat, \n",
    "    \"Lng\":long, \n",
    "    \"Max Temp\": max_temp,\n",
    "    \"Wind Speed\":wind_speed\n",
    "}\n",
    "\n",
    "# Create a data frame from dictionary\n",
    "weather_data = pd.DataFrame(weatherpy_dict)\n",
    "\n",
    "# Display count of weather data values \n",
    "weather_data.count()"
   ]
  },
  {
   "cell_type": "code",
   "execution_count": null,
   "metadata": {},
   "outputs": [],
   "source": [
    "\n",
    "# Save data frame to CSV\n",
    "weather_data.to_csv('Output_CSV/weather_data.csv')\n",
    "\n",
    "# Display data frame head \n",
    "weather_data.head()"
   ]
  },
  {
   "cell_type": "markdown",
   "metadata": {},
   "source": [
    "### Plotting the Data\n",
    "* Use proper labeling of the plots using plot titles (including date of analysis) and axes labels.\n",
    "* Save the plotted figures as .pngs."
   ]
  },
  {
   "cell_type": "markdown",
   "metadata": {},
   "source": [
    "#### Latitude vs. Temperature Plot"
   ]
  },
  {
   "cell_type": "code",
   "execution_count": null,
   "metadata": {},
   "outputs": [],
   "source": [
    "# Build a scatter plot for each data type\n",
    "plt.scatter(weather_data[\"Lat\"], weather_data[\"Max Temp\"], marker=\"o\", s=10)\n",
    "\n",
    "# Incorporate the other graph properties\n",
    "plt.title(\"City Latitude vs. Max Temperature\")\n",
    "plt.ylabel(\"Max. Temperature (F)\")\n",
    "plt.xlabel(\"Latitude\")\n",
    "plt.grid(True)\n",
    "\n",
    "# Save the figure\n",
    "plt.savefig(\"Output_Plots/Max_Temp_vs_Latitude.png\")\n",
    "\n",
    "# Show plot\n",
    "plt.show()"
   ]
  },
  {
   "cell_type": "markdown",
   "metadata": {},
   "source": [
    "#### Latitude vs. Humidity Plot"
   ]
  },
  {
   "cell_type": "code",
   "execution_count": null,
   "metadata": {},
   "outputs": [],
   "source": [
    "# Build a scatter plot for each data type\n",
    "plt.scatter(weather_data[\"Lat\"], weather_data[\"Humidity\"], marker=\"o\", s=10)\n",
    "\n",
    "# Incorporate the other graph properties\n",
    "plt.title(\"City Latitude vs. Humidity\")\n",
    "plt.ylabel(\"Humidity (%)\")\n",
    "plt.xlabel(\"Latitude\")\n",
    "plt.grid(True)\n",
    "\n",
    "# Save the figure\n",
    "plt.savefig(\"Output_Plots/Humidity_vs_Latitude.png\")\n",
    "\n",
    "# Show plot\n",
    "plt.show()\n"
   ]
  },
  {
   "cell_type": "markdown",
   "metadata": {},
   "source": [
    "#### Latitude vs. Cloudiness Plot"
   ]
  },
  {
   "cell_type": "code",
   "execution_count": null,
   "metadata": {},
   "outputs": [],
   "source": [
    "# Build a scatter plot for each data type\n",
    "plt.scatter(weather_data[\"Lat\"], weather_data[\"Cloudiness\"], marker=\"o\", s=10)\n",
    "\n",
    "# Incorporate the other graph properties\n",
    "plt.title(\"City Latitude vs. Cloudiness\")\n",
    "plt.ylabel(\"Cloudiness (%)\")\n",
    "plt.xlabel(\"Latitude\")\n",
    "plt.grid(True)\n",
    "\n",
    "# Save the figure\n",
    "plt.savefig(\"Output_Plots/Cloudiness_vs_Latitude.png\")\n",
    "\n",
    "# Show plot\n",
    "plt.show()"
   ]
  },
  {
   "cell_type": "markdown",
   "metadata": {},
   "source": [
    "#### Latitude vs. Wind Speed Plot"
   ]
  },
  {
   "cell_type": "code",
   "execution_count": null,
   "metadata": {},
   "outputs": [],
   "source": [
    "# Build a scatter plot for each data type\n",
    "plt.scatter(weather_data[\"Lat\"], weather_data[\"Wind Speed\"], marker=\"o\", s=10)\n",
    "\n",
    "# Incorporate the other graph properties\n",
    "plt.title(\"City Latitude vs. Wind Speed\")\n",
    "plt.ylabel(\"Wind Speed (mph)\")\n",
    "plt.xlabel(\"Latitude\")\n",
    "plt.grid(True)\n",
    "\n",
    "# Save the figure\n",
    "plt.savefig(\"Output_Plots/Wind_Speed_vs_Latitude.png\")\n",
    "\n",
    "# Show plot\n",
    "plt.show()"
   ]
  }
 ],
 "metadata": {
  "anaconda-cloud": {},
  "kernel_info": {
   "name": "python3"
  },
  "kernelspec": {
   "display_name": "Python 3",
   "language": "python",
   "name": "python3"
  },
  "language_info": {
   "codemirror_mode": {
    "name": "ipython",
    "version": 3
   },
   "file_extension": ".py",
   "mimetype": "text/x-python",
   "name": "python",
   "nbconvert_exporter": "python",
   "pygments_lexer": "ipython3",
   "version": "3.7.3"
  },
  "nteract": {
   "version": "0.12.3"
  }
 },
 "nbformat": 4,
 "nbformat_minor": 2
}
