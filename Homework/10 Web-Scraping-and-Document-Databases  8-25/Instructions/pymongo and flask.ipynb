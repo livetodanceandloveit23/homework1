{
 "cells": [
  {
   "cell_type": "code",
   "execution_count": 5,
   "metadata": {},
   "outputs": [],
   "source": [
    "from flask import Flask, render_template\n",
    "# Import scrape_mars\n",
    "import scrape_mars\n",
    "\n",
    "# Import our pymongo library, which lets us connect our Flask app to our Mongo database.\n",
    "import pymongo\n",
    "\n",
    "# Create an instance of our Flask app.\n",
    "app = Flask(__name__)\n",
    "\n",
    "# Create connection variable\n",
    "conn = 'mongodb://localhost:27017/mission_to_mars'\n",
    "\n",
    "# Pass connection to the pymongo instance.\n",
    "client = pymongo.MongoClient(conn)\n",
    "\n",
    "# Set route\n",
    "@app.route(\"/\")\n",
    "def index():\n",
    "    mars = client.db.mars.find_one()\n",
    "    return render_template(\"index.html\", mars=mars)\n",
    "\n",
    "# Scrape \n",
    "@app.route(\"/scrape\")\n",
    "def scrape():\n",
    "    mars = client.db.mars\n",
    "    mars_data = scrape_mars.scrape()\n",
    "    mars.update({}, mars_data)\n",
    "    return \"Scraped!\"\n",
    "\n",
    "# if __name__ == \"__main__\":\n",
    "#     app.run(debug=True)\n",
    "    \n"
   ]
  },
  {
   "cell_type": "code",
   "execution_count": null,
   "metadata": {},
   "outputs": [],
   "source": []
  }
 ],
 "metadata": {
  "kernelspec": {
   "display_name": "Python 3",
   "language": "python",
   "name": "python3"
  },
  "language_info": {
   "codemirror_mode": {
    "name": "ipython",
    "version": 3
   },
   "file_extension": ".py",
   "mimetype": "text/x-python",
   "name": "python",
   "nbconvert_exporter": "python",
   "pygments_lexer": "ipython3",
   "version": "3.7.3"
  }
 },
 "nbformat": 4,
 "nbformat_minor": 2
}
