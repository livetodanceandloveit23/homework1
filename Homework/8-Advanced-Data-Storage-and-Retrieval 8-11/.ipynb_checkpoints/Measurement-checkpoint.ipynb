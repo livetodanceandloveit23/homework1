{
 "cells": [
  {
   "cell_type": "code",
   "execution_count": 2,
   "metadata": {},
   "outputs": [],
   "source": [
    "# Dependencies\n",
    "from numpy import genfromtxt\n",
    "from time import time\n",
    "from datetime import datetime\n",
    "from sqlalchemy import Column, Integer, Float, Date, String, ForeignKey\n",
    "from sqlalchemy.ext.declarative import declarative_base\n",
    "from sqlalchemy import create_engine\n",
    "from sqlalchemy.orm import sessionmaker\n",
    "from sqlalchemy.orm import Session\n",
    "from sqlalchemy import Index\n",
    "from sqlalchemy import MetaData\n",
    "from sqlalchemy import Table\n",
    "import csv\n",
    "import pandas as pd\n",
    "from sqlalchemy.ext.automap import automap_base\n",
    "from sqlalchemy import create_engine, inspect\n",
    "from sqlalchemy import func"
   ]
  },
  {
   "cell_type": "code",
   "execution_count": 3,
   "metadata": {},
   "outputs": [
    {
     "data": {
      "text/html": [
       "<div>\n",
       "<style scoped>\n",
       "    .dataframe tbody tr th:only-of-type {\n",
       "        vertical-align: middle;\n",
       "    }\n",
       "\n",
       "    .dataframe tbody tr th {\n",
       "        vertical-align: top;\n",
       "    }\n",
       "\n",
       "    .dataframe thead th {\n",
       "        text-align: right;\n",
       "    }\n",
       "</style>\n",
       "<table border=\"1\" class=\"dataframe\">\n",
       "  <thead>\n",
       "    <tr style=\"text-align: right;\">\n",
       "      <th></th>\n",
       "      <th>station</th>\n",
       "      <th>date</th>\n",
       "      <th>prcp</th>\n",
       "      <th>tobs</th>\n",
       "    </tr>\n",
       "  </thead>\n",
       "  <tbody>\n",
       "    <tr>\n",
       "      <th>0</th>\n",
       "      <td>USC00519397</td>\n",
       "      <td>2010-01-01</td>\n",
       "      <td>0.08</td>\n",
       "      <td>65.0</td>\n",
       "    </tr>\n",
       "    <tr>\n",
       "      <th>1</th>\n",
       "      <td>USC00519397</td>\n",
       "      <td>2010-01-02</td>\n",
       "      <td>0.00</td>\n",
       "      <td>63.0</td>\n",
       "    </tr>\n",
       "    <tr>\n",
       "      <th>2</th>\n",
       "      <td>USC00519397</td>\n",
       "      <td>2010-01-03</td>\n",
       "      <td>0.00</td>\n",
       "      <td>74.0</td>\n",
       "    </tr>\n",
       "    <tr>\n",
       "      <th>3</th>\n",
       "      <td>USC00519397</td>\n",
       "      <td>2010-01-04</td>\n",
       "      <td>0.00</td>\n",
       "      <td>76.0</td>\n",
       "    </tr>\n",
       "    <tr>\n",
       "      <th>4</th>\n",
       "      <td>USC00519397</td>\n",
       "      <td>2010-01-07</td>\n",
       "      <td>0.06</td>\n",
       "      <td>70.0</td>\n",
       "    </tr>\n",
       "  </tbody>\n",
       "</table>\n",
       "</div>"
      ],
      "text/plain": [
       "       station        date  prcp  tobs\n",
       "0  USC00519397  2010-01-01  0.08  65.0\n",
       "1  USC00519397  2010-01-02  0.00  63.0\n",
       "2  USC00519397  2010-01-03  0.00  74.0\n",
       "3  USC00519397  2010-01-04  0.00  76.0\n",
       "4  USC00519397  2010-01-07  0.06  70.0"
      ]
     },
     "execution_count": 3,
     "metadata": {},
     "output_type": "execute_result"
    }
   ],
   "source": [
    "clean_measurement = \"resources/withoutid_clean_measurement_df.csv\"\n",
    "clean_measurement_df = pd.read_csv(clean_measurement )\n",
    "clean_measurement_df.head()"
   ]
  },
  {
   "cell_type": "code",
   "execution_count": 4,
   "metadata": {},
   "outputs": [
    {
     "data": {
      "text/html": [
       "<div>\n",
       "<style scoped>\n",
       "    .dataframe tbody tr th:only-of-type {\n",
       "        vertical-align: middle;\n",
       "    }\n",
       "\n",
       "    .dataframe tbody tr th {\n",
       "        vertical-align: top;\n",
       "    }\n",
       "\n",
       "    .dataframe thead th {\n",
       "        text-align: right;\n",
       "    }\n",
       "</style>\n",
       "<table border=\"1\" class=\"dataframe\">\n",
       "  <thead>\n",
       "    <tr style=\"text-align: right;\">\n",
       "      <th></th>\n",
       "      <th>station</th>\n",
       "      <th>station_name</th>\n",
       "      <th>latitude</th>\n",
       "      <th>longitude</th>\n",
       "      <th>elevation</th>\n",
       "      <th>location</th>\n",
       "    </tr>\n",
       "  </thead>\n",
       "  <tbody>\n",
       "    <tr>\n",
       "      <th>0</th>\n",
       "      <td>USC00519397</td>\n",
       "      <td>WAIKIKI 717.2, HI US</td>\n",
       "      <td>21.2716</td>\n",
       "      <td>-157.8168</td>\n",
       "      <td>3.0</td>\n",
       "      <td>POINT(21.2716 -157.8168)</td>\n",
       "    </tr>\n",
       "    <tr>\n",
       "      <th>1</th>\n",
       "      <td>USC00513117</td>\n",
       "      <td>KANEOHE 838.1, HI US</td>\n",
       "      <td>21.4234</td>\n",
       "      <td>-157.8015</td>\n",
       "      <td>14.6</td>\n",
       "      <td>POINT(21.4234 -157.8015)</td>\n",
       "    </tr>\n",
       "    <tr>\n",
       "      <th>2</th>\n",
       "      <td>USC00514830</td>\n",
       "      <td>KUALOA RANCH HEADQUARTERS 886.9, HI US</td>\n",
       "      <td>21.5213</td>\n",
       "      <td>-157.8374</td>\n",
       "      <td>7.0</td>\n",
       "      <td>POINT(21.5213 -157.8374)</td>\n",
       "    </tr>\n",
       "    <tr>\n",
       "      <th>3</th>\n",
       "      <td>USC00517948</td>\n",
       "      <td>PEARL CITY, HI US</td>\n",
       "      <td>21.3934</td>\n",
       "      <td>-157.9751</td>\n",
       "      <td>11.9</td>\n",
       "      <td>POINT(21.3934 -157.9751)</td>\n",
       "    </tr>\n",
       "    <tr>\n",
       "      <th>4</th>\n",
       "      <td>USC00518838</td>\n",
       "      <td>UPPER WAHIAWA 874.3, HI US</td>\n",
       "      <td>21.4992</td>\n",
       "      <td>-158.0111</td>\n",
       "      <td>306.6</td>\n",
       "      <td>POINT(21.4992 -158.0111)</td>\n",
       "    </tr>\n",
       "  </tbody>\n",
       "</table>\n",
       "</div>"
      ],
      "text/plain": [
       "       station                            station_name  latitude  longitude  \\\n",
       "0  USC00519397                    WAIKIKI 717.2, HI US   21.2716  -157.8168   \n",
       "1  USC00513117                    KANEOHE 838.1, HI US   21.4234  -157.8015   \n",
       "2  USC00514830  KUALOA RANCH HEADQUARTERS 886.9, HI US   21.5213  -157.8374   \n",
       "3  USC00517948                       PEARL CITY, HI US   21.3934  -157.9751   \n",
       "4  USC00518838              UPPER WAHIAWA 874.3, HI US   21.4992  -158.0111   \n",
       "\n",
       "   elevation                  location  \n",
       "0        3.0  POINT(21.2716 -157.8168)  \n",
       "1       14.6  POINT(21.4234 -157.8015)  \n",
       "2        7.0  POINT(21.5213 -157.8374)  \n",
       "3       11.9  POINT(21.3934 -157.9751)  \n",
       "4      306.6  POINT(21.4992 -158.0111)  "
      ]
     },
     "execution_count": 4,
     "metadata": {},
     "output_type": "execute_result"
    }
   ],
   "source": [
    "clean_station = \"resources/withoutid_clean_station_df.csv\"\n",
    "clean_station_df = pd.read_csv(clean_station)\n",
    "\n",
    "clean_station_df.head()"
   ]
  },
  {
   "cell_type": "code",
   "execution_count": 5,
   "metadata": {},
   "outputs": [
    {
     "data": {
      "text/plain": [
       "station          object\n",
       "station_name     object\n",
       "latitude        float64\n",
       "longitude       float64\n",
       "elevation       float64\n",
       "location         object\n",
       "dtype: object"
      ]
     },
     "execution_count": 5,
     "metadata": {},
     "output_type": "execute_result"
    }
   ],
   "source": [
    "clean_station_df.dtypes"
   ]
  },
  {
   "cell_type": "code",
   "execution_count": 6,
   "metadata": {},
   "outputs": [],
   "source": [
    "Base = declarative_base()\n",
    "class Measurement(Base):\n",
    "    __tablename__ = 'measurement_table'\n",
    "    __table_args__ = {'sqlite_autoincrement': True}\n",
    "    __table_args__ = {'extend_existing': True}\n",
    "    id = Column(Integer, primary_key=True, nullable=False)\n",
    "    station = Column(String)\n",
    "    date = Column(Date)\n",
    "    prcp = Column(Float)\n",
    "    tobs = Column(Float)\n",
    "\n",
    "\n",
    "engine = create_engine(\"sqlite:///hawaii_3.db\")\n",
    "Base.metadata.create_all(engine)\n",
    "\n",
    "#Create the session\n",
    "session = Session(bind=engine)"
   ]
  },
  {
   "cell_type": "code",
   "execution_count": 7,
   "metadata": {},
   "outputs": [],
   "source": [
    "for i, row in clean_measurement_df.iterrows():\n",
    "    \n",
    "    record = Measurement(**{\n",
    "        'station' : row.station,\n",
    "        'date' : datetime.strptime(row.date, '%Y-%m-%d').date(),\n",
    "        'prcp' : row.prcp,\n",
    "        'tobs' : row.tobs\n",
    "})\n",
    "\n",
    "    session.add(record)\n",
    "session.commit()"
   ]
  },
  {
   "cell_type": "code",
   "execution_count": 8,
   "metadata": {},
   "outputs": [
    {
     "data": {
      "text/plain": [
       "station    USC00516128\n",
       "date        2017-08-23\n",
       "prcp              0.45\n",
       "tobs                76\n",
       "Name: 18102, dtype: object"
      ]
     },
     "execution_count": 8,
     "metadata": {},
     "output_type": "execute_result"
    }
   ],
   "source": [
    "row"
   ]
  },
  {
   "cell_type": "code",
   "execution_count": 9,
   "metadata": {},
   "outputs": [],
   "source": [
    "\n",
    "Base = declarative_base()\n",
    "class Station(Base):\n",
    "    __tablename__ = 'station_table'\n",
    "    __table_args__ = {'sqlite_autoincrement': True}\n",
    "\n",
    "    id = Column(Integer, primary_key=True, nullable=False)\n",
    "    station = Column(String(225))\n",
    "    station_name= Column(String(225)) \n",
    "    latitude = Column(Float)\n",
    "    longitude = Column(Float)\n",
    "    elevation = Column(Float)\n",
    "    location = Column(String(225))\n",
    "\n",
    "\n",
    "engine = create_engine(\"sqlite:///hawaii_3.db\")\n",
    "Base.metadata.create_all(engine)\n",
    "\n",
    "#Create the session\n",
    "session = Session(bind=engine)"
   ]
  },
  {
   "cell_type": "code",
   "execution_count": 10,
   "metadata": {},
   "outputs": [
    {
     "name": "stdout",
     "output_type": "stream",
     "text": [
      "WAIKIKI 717.2, HI US\n",
      "KANEOHE 838.1, HI US\n",
      "KUALOA RANCH HEADQUARTERS 886.9, HI US\n",
      "PEARL CITY, HI US\n",
      "UPPER WAHIAWA 874.3, HI US\n",
      "WAIMANALO EXPERIMENTAL FARM, HI US\n",
      "WAIHEE 837.5, HI US\n",
      "HONOLULU OBSERVATORY 702.2, HI US\n",
      "MANOA LYON ARBO 785.2, HI US\n"
     ]
    }
   ],
   "source": [
    "for i, row in clean_station_df.iterrows():\n",
    "    record = Station(**{\n",
    "         'station' : row.station,\n",
    "         'station_name': row.station_name,\n",
    "         'latitude': row.latitude,\n",
    "         'longitude' : row.longitude,\n",
    "         'elevation': row.elevation,\n",
    "         'location': row.location\n",
    "})\n",
    "    print (row.station_name)\n",
    "    session.add(record)\n",
    "session.commit()"
   ]
  },
  {
   "cell_type": "code",
   "execution_count": 11,
   "metadata": {},
   "outputs": [
    {
     "data": {
      "text/plain": [
       "station                          USC00516128\n",
       "station_name    MANOA LYON ARBO 785.2, HI US\n",
       "latitude                             21.3331\n",
       "longitude                           -157.803\n",
       "elevation                              152.4\n",
       "location            POINT(21.3331 -157.8025)\n",
       "Name: 8, dtype: object"
      ]
     },
     "execution_count": 11,
     "metadata": {},
     "output_type": "execute_result"
    }
   ],
   "source": [
    "row"
   ]
  },
  {
   "cell_type": "code",
   "execution_count": 12,
   "metadata": {},
   "outputs": [],
   "source": [
    "Base = declarative_base()"
   ]
  },
  {
   "cell_type": "code",
   "execution_count": 13,
   "metadata": {},
   "outputs": [
    {
     "data": {
      "text/plain": [
       "['measurement_table', 'station_table']"
      ]
     },
     "execution_count": 13,
     "metadata": {},
     "output_type": "execute_result"
    }
   ],
   "source": [
    "engine = create_engine(\"sqlite:///hawaii_3.db\")\n",
    "Base = automap_base()\n",
    "Base.prepare(engine, reflect=True)\n",
    "Base.classes.keys()"
   ]
  },
  {
   "cell_type": "code",
   "execution_count": 14,
   "metadata": {},
   "outputs": [
    {
     "data": {
      "text/plain": [
       "sqlalchemy.ext.automap.measurement_table"
      ]
     },
     "execution_count": 14,
     "metadata": {},
     "output_type": "execute_result"
    }
   ],
   "source": [
    "Measurement=Base.classes.measurement_table\n",
    "Measurement"
   ]
  },
  {
   "cell_type": "code",
   "execution_count": 15,
   "metadata": {},
   "outputs": [
    {
     "data": {
      "text/plain": [
       "sqlalchemy.ext.automap.station_table"
      ]
     },
     "execution_count": 15,
     "metadata": {},
     "output_type": "execute_result"
    }
   ],
   "source": [
    "Station=Base.classes.station_table\n",
    "Station"
   ]
  },
  {
   "cell_type": "code",
   "execution_count": 16,
   "metadata": {},
   "outputs": [
    {
     "data": {
      "text/plain": [
       "['measurement_table', 'sqlite_sequence', 'station_table']"
      ]
     },
     "execution_count": 16,
     "metadata": {},
     "output_type": "execute_result"
    }
   ],
   "source": [
    "inspector = inspect(engine)\n",
    "inspector.get_table_names()"
   ]
  },
  {
   "cell_type": "code",
   "execution_count": 17,
   "metadata": {},
   "outputs": [
    {
     "name": "stdout",
     "output_type": "stream",
     "text": [
      "id INTEGER\n",
      "station VARCHAR(225)\n",
      "station_name VARCHAR(225)\n",
      "latitude FLOAT\n",
      "longitude FLOAT\n",
      "elevation FLOAT\n",
      "location VARCHAR(225)\n"
     ]
    }
   ],
   "source": [
    "columns = inspector.get_columns('station_table')\n",
    "for c in columns:\n",
    "    print(c['name'], c[\"type\"])"
   ]
  },
  {
   "cell_type": "code",
   "execution_count": 18,
   "metadata": {},
   "outputs": [
    {
     "name": "stdout",
     "output_type": "stream",
     "text": [
      "mapped class measurement_table->measurement_table\n"
     ]
    }
   ],
   "source": [
    "from sqlalchemy import inspect\n",
    "\n",
    "mapper = inspect(Measurement)\n",
    "print(mapper)"
   ]
  },
  {
   "cell_type": "code",
   "execution_count": 19,
   "metadata": {},
   "outputs": [
    {
     "name": "stdout",
     "output_type": "stream",
     "text": [
      "mapped class station_table->station_table\n"
     ]
    }
   ],
   "source": [
    "from sqlalchemy import inspect\n",
    "\n",
    "mapper = inspect(Station)\n",
    "print(mapper)"
   ]
  },
  {
   "cell_type": "code",
   "execution_count": 20,
   "metadata": {},
   "outputs": [],
   "source": [
    "Session = sessionmaker(bind=engine)\n",
    "# Session is a class\n",
    "session = Session()\n",
    "# now session is a instance of the class Session"
   ]
  },
  {
   "cell_type": "code",
   "execution_count": 21,
   "metadata": {},
   "outputs": [
    {
     "data": {
      "text/plain": [
       "[(1, 'USC00519397', 'WAIKIKI 717.2, HI US', 21.2716, -157.8168, 3.0, 'POINT(21.2716 -157.8168)'),\n",
       " (2, 'USC00513117', 'KANEOHE 838.1, HI US', 21.4234, -157.8015, 14.6, 'POINT(21.4234 -157.8015)'),\n",
       " (3, 'USC00514830', 'KUALOA RANCH HEADQUARTERS 886.9, HI US', 21.5213, -157.8374, 7.0, 'POINT(21.5213 -157.8374)'),\n",
       " (4, 'USC00517948', 'PEARL CITY, HI US', 21.3934, -157.9751, 11.9, 'POINT(21.3934 -157.9751)'),\n",
       " (5, 'USC00518838', 'UPPER WAHIAWA 874.3, HI US', 21.4992, -158.0111, 306.6, 'POINT(21.4992 -158.0111)')]"
      ]
     },
     "execution_count": 21,
     "metadata": {},
     "output_type": "execute_result"
    }
   ],
   "source": [
    "engine.execute('SELECT * FROM station_table LIMIT 5').fetchall()"
   ]
  },
  {
   "cell_type": "code",
   "execution_count": 22,
   "metadata": {},
   "outputs": [
    {
     "data": {
      "text/plain": [
       "[(1, 'USC00519397', '2010-01-01', 0.08, 65.0),\n",
       " (2, 'USC00519397', '2010-01-02', 0.0, 63.0),\n",
       " (3, 'USC00519397', '2010-01-03', 0.0, 74.0),\n",
       " (4, 'USC00519397', '2010-01-04', 0.0, 76.0),\n",
       " (5, 'USC00519397', '2010-01-07', 0.06, 70.0)]"
      ]
     },
     "execution_count": 22,
     "metadata": {},
     "output_type": "execute_result"
    }
   ],
   "source": [
    "engine.execute('SELECT * FROM measurement_table LIMIT 5').fetchall()"
   ]
  },
  {
   "cell_type": "code",
   "execution_count": null,
   "metadata": {},
   "outputs": [],
   "source": []
  }
 ],
 "metadata": {
  "kernelspec": {
   "display_name": "Python 3",
   "language": "python",
   "name": "python3"
  },
  "language_info": {
   "codemirror_mode": {
    "name": "ipython",
    "version": 3
   },
   "file_extension": ".py",
   "mimetype": "text/x-python",
   "name": "python",
   "nbconvert_exporter": "python",
   "pygments_lexer": "ipython3",
   "version": "3.7.3"
  }
 },
 "nbformat": 4,
 "nbformat_minor": 2
}
