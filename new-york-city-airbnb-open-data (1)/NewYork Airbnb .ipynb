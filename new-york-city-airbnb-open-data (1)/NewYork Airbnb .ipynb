{
 "cells": [
  {
   "cell_type": "markdown",
   "metadata": {},
   "source": [
    "Since 2008, guests and hosts have used Airbnb to expand on traveling possibilities and present more unique, \n",
    "personalized way of experiencing the world. This dataset describes the listing activity and metrics in NYC, \n",
    "NY for 2019."
   ]
  },
  {
   "cell_type": "code",
   "execution_count": 1,
   "metadata": {},
   "outputs": [],
   "source": [
    "#Import dependencies \n",
    "import pandas as pd\n",
    "import numpy as np \n",
    "\n",
    "#Load the CSV file\n",
    "newyork_data = pd.read_csv(\"Data/listings.csv\",dtype={'neighbourhood': str})\n",
    "    \n"
   ]
  },
  {
   "cell_type": "code",
   "execution_count": 2,
   "metadata": {},
   "outputs": [
    {
     "data": {
      "text/html": [
       "<div>\n",
       "<style scoped>\n",
       "    .dataframe tbody tr th:only-of-type {\n",
       "        vertical-align: middle;\n",
       "    }\n",
       "\n",
       "    .dataframe tbody tr th {\n",
       "        vertical-align: top;\n",
       "    }\n",
       "\n",
       "    .dataframe thead th {\n",
       "        text-align: right;\n",
       "    }\n",
       "</style>\n",
       "<table border=\"1\" class=\"dataframe\">\n",
       "  <thead>\n",
       "    <tr style=\"text-align: right;\">\n",
       "      <th></th>\n",
       "      <th>id</th>\n",
       "      <th>name</th>\n",
       "      <th>host_id</th>\n",
       "      <th>host_name</th>\n",
       "      <th>neighborhood_group</th>\n",
       "      <th>neighborhood</th>\n",
       "      <th>latitude</th>\n",
       "      <th>longitude</th>\n",
       "      <th>room_type</th>\n",
       "      <th>price</th>\n",
       "      <th>minimum_nights</th>\n",
       "      <th>number_of_reviews</th>\n",
       "      <th>last_review</th>\n",
       "      <th>reviews_per_month</th>\n",
       "      <th>calculated_host_listings_count</th>\n",
       "      <th>availability_365</th>\n",
       "    </tr>\n",
       "  </thead>\n",
       "  <tbody>\n",
       "    <tr>\n",
       "      <th>0</th>\n",
       "      <td>2595</td>\n",
       "      <td>Skylit Midtown Castle</td>\n",
       "      <td>2845</td>\n",
       "      <td>Jennifer</td>\n",
       "      <td>Manhattan</td>\n",
       "      <td>Midtown</td>\n",
       "      <td>40.75362</td>\n",
       "      <td>-73.98377</td>\n",
       "      <td>Entire home/apt</td>\n",
       "      <td>225</td>\n",
       "      <td>1</td>\n",
       "      <td>46</td>\n",
       "      <td>7/14/19</td>\n",
       "      <td>0.39</td>\n",
       "      <td>2</td>\n",
       "      <td>288</td>\n",
       "    </tr>\n",
       "    <tr>\n",
       "      <th>1</th>\n",
       "      <td>3647</td>\n",
       "      <td>THE VILLAGE OF HARLEM....NEW YORK !</td>\n",
       "      <td>4632</td>\n",
       "      <td>Elisabeth</td>\n",
       "      <td>Manhattan</td>\n",
       "      <td>Harlem</td>\n",
       "      <td>40.80902</td>\n",
       "      <td>-73.94190</td>\n",
       "      <td>Private room</td>\n",
       "      <td>150</td>\n",
       "      <td>3</td>\n",
       "      <td>0</td>\n",
       "      <td>NaN</td>\n",
       "      <td>NaN</td>\n",
       "      <td>1</td>\n",
       "      <td>365</td>\n",
       "    </tr>\n",
       "    <tr>\n",
       "      <th>2</th>\n",
       "      <td>3831</td>\n",
       "      <td>Cozy Entire Floor of Brownstone</td>\n",
       "      <td>4869</td>\n",
       "      <td>LisaRoxanne</td>\n",
       "      <td>Brooklyn</td>\n",
       "      <td>Clinton Hill</td>\n",
       "      <td>40.68514</td>\n",
       "      <td>-73.95976</td>\n",
       "      <td>Entire home/apt</td>\n",
       "      <td>89</td>\n",
       "      <td>1</td>\n",
       "      <td>274</td>\n",
       "      <td>7/26/19</td>\n",
       "      <td>4.64</td>\n",
       "      <td>1</td>\n",
       "      <td>212</td>\n",
       "    </tr>\n",
       "    <tr>\n",
       "      <th>3</th>\n",
       "      <td>5022</td>\n",
       "      <td>Entire Apt: Spacious Studio/Loft by central park</td>\n",
       "      <td>7192</td>\n",
       "      <td>Laura</td>\n",
       "      <td>Manhattan</td>\n",
       "      <td>East Harlem</td>\n",
       "      <td>40.79851</td>\n",
       "      <td>-73.94399</td>\n",
       "      <td>Entire home/apt</td>\n",
       "      <td>80</td>\n",
       "      <td>10</td>\n",
       "      <td>9</td>\n",
       "      <td>11/19/18</td>\n",
       "      <td>0.10</td>\n",
       "      <td>1</td>\n",
       "      <td>0</td>\n",
       "    </tr>\n",
       "    <tr>\n",
       "      <th>4</th>\n",
       "      <td>5099</td>\n",
       "      <td>Large Cozy 1 BR Apartment In Midtown East</td>\n",
       "      <td>7322</td>\n",
       "      <td>Chris</td>\n",
       "      <td>Manhattan</td>\n",
       "      <td>Murray Hill</td>\n",
       "      <td>40.74767</td>\n",
       "      <td>-73.97500</td>\n",
       "      <td>Entire home/apt</td>\n",
       "      <td>200</td>\n",
       "      <td>3</td>\n",
       "      <td>75</td>\n",
       "      <td>7/21/19</td>\n",
       "      <td>0.60</td>\n",
       "      <td>1</td>\n",
       "      <td>127</td>\n",
       "    </tr>\n",
       "  </tbody>\n",
       "</table>\n",
       "</div>"
      ],
      "text/plain": [
       "     id                                              name  host_id  \\\n",
       "0  2595                             Skylit Midtown Castle     2845   \n",
       "1  3647               THE VILLAGE OF HARLEM....NEW YORK !     4632   \n",
       "2  3831                   Cozy Entire Floor of Brownstone     4869   \n",
       "3  5022  Entire Apt: Spacious Studio/Loft by central park     7192   \n",
       "4  5099         Large Cozy 1 BR Apartment In Midtown East     7322   \n",
       "\n",
       "     host_name neighborhood_group  neighborhood  latitude  longitude  \\\n",
       "0     Jennifer          Manhattan       Midtown  40.75362  -73.98377   \n",
       "1    Elisabeth          Manhattan        Harlem  40.80902  -73.94190   \n",
       "2  LisaRoxanne           Brooklyn  Clinton Hill  40.68514  -73.95976   \n",
       "3        Laura          Manhattan   East Harlem  40.79851  -73.94399   \n",
       "4        Chris          Manhattan   Murray Hill  40.74767  -73.97500   \n",
       "\n",
       "         room_type  price  minimum_nights  number_of_reviews last_review  \\\n",
       "0  Entire home/apt    225               1                 46     7/14/19   \n",
       "1     Private room    150               3                  0         NaN   \n",
       "2  Entire home/apt     89               1                274     7/26/19   \n",
       "3  Entire home/apt     80              10                  9    11/19/18   \n",
       "4  Entire home/apt    200               3                 75     7/21/19   \n",
       "\n",
       "   reviews_per_month  calculated_host_listings_count  availability_365  \n",
       "0               0.39                               2               288  \n",
       "1                NaN                               1               365  \n",
       "2               4.64                               1               212  \n",
       "3               0.10                               1                 0  \n",
       "4               0.60                               1               127  "
      ]
     },
     "execution_count": 2,
     "metadata": {},
     "output_type": "execute_result"
    }
   ],
   "source": [
    "# Rename the data \n",
    "newyork_data= pd.DataFrame(newyork_data)\n",
    "\n",
    "newyork_data.rename(columns={\"neighbourhood_group\": \"neighborhood_group\",\n",
    "                            \"neighbourhood\":\"neighborhood\"}, inplace= True)\n",
    "\n",
    "newyork_data.head()"
   ]
  },
  {
   "cell_type": "code",
   "execution_count": 5,
   "metadata": {},
   "outputs": [
    {
     "data": {
      "text/html": [
       "<div>\n",
       "<style scoped>\n",
       "    .dataframe tbody tr th:only-of-type {\n",
       "        vertical-align: middle;\n",
       "    }\n",
       "\n",
       "    .dataframe tbody tr th {\n",
       "        vertical-align: top;\n",
       "    }\n",
       "\n",
       "    .dataframe thead th {\n",
       "        text-align: right;\n",
       "    }\n",
       "</style>\n",
       "<table border=\"1\" class=\"dataframe\">\n",
       "  <thead>\n",
       "    <tr style=\"text-align: right;\">\n",
       "      <th></th>\n",
       "      <th>neighborhood</th>\n",
       "      <th>avg_price</th>\n",
       "    </tr>\n",
       "  </thead>\n",
       "  <tbody>\n",
       "    <tr>\n",
       "      <th>0</th>\n",
       "      <td>Allerton</td>\n",
       "      <td>91.365854</td>\n",
       "    </tr>\n",
       "    <tr>\n",
       "      <th>1</th>\n",
       "      <td>Arden Heights</td>\n",
       "      <td>67.250000</td>\n",
       "    </tr>\n",
       "    <tr>\n",
       "      <th>2</th>\n",
       "      <td>Arrochar</td>\n",
       "      <td>112.304348</td>\n",
       "    </tr>\n",
       "    <tr>\n",
       "      <th>3</th>\n",
       "      <td>Arverne</td>\n",
       "      <td>173.488372</td>\n",
       "    </tr>\n",
       "    <tr>\n",
       "      <th>4</th>\n",
       "      <td>Astoria</td>\n",
       "      <td>114.154428</td>\n",
       "    </tr>\n",
       "  </tbody>\n",
       "</table>\n",
       "</div>"
      ],
      "text/plain": [
       "    neighborhood   avg_price\n",
       "0       Allerton   91.365854\n",
       "1  Arden Heights   67.250000\n",
       "2       Arrochar  112.304348\n",
       "3        Arverne  173.488372\n",
       "4        Astoria  114.154428"
      ]
     },
     "execution_count": 5,
     "metadata": {},
     "output_type": "execute_result"
    }
   ],
   "source": [
    "averages = pd.DataFrame(columns=['neighborhood', 'price'])\n",
    "\n",
    "for name, group in newyork_data.groupby('neighborhood'):\n",
    "    averages.loc[len(averages)] = [name, group['price'].mean()]\n",
    "    \n",
    "averages.rename(columns={\"price\": \"avg_price\"}, inplace=True)\n",
    "averages.head()"
   ]
  },
  {
   "cell_type": "code",
   "execution_count": 6,
   "metadata": {},
   "outputs": [
    {
     "data": {
      "image/png": "[encoded data removed]",
      "text/plain": [
       "<Figure size 432x288 with 1 Axes>"
      ]
     },
     "metadata": {
      "needs_background": "light"
     },
     "output_type": "display_data"
    }
   ],
   "source": [
    "import matplotlib.pyplot as plt\n",
    "averages.plot(x='neighborhood', y='avg_price', kind='bar')\n",
    "plt.show()\n",
    "averages.to_csv('averages.csv', index=False)"
   ]
  },
  {
   "cell_type": "code",
   "execution_count": 95,
   "metadata": {},
   "outputs": [
    {
     "data": {
      "text/html": [
       "<div>\n",
       "<style scoped>\n",
       "    .dataframe tbody tr th:only-of-type {\n",
       "        vertical-align: middle;\n",
       "    }\n",
       "\n",
       "    .dataframe tbody tr th {\n",
       "        vertical-align: top;\n",
       "    }\n",
       "\n",
       "    .dataframe thead th {\n",
       "        text-align: right;\n",
       "    }\n",
       "</style>\n",
       "<table border=\"1\" class=\"dataframe\">\n",
       "  <thead>\n",
       "    <tr style=\"text-align: right;\">\n",
       "      <th></th>\n",
       "      <th>neighborhood</th>\n",
       "      <th>number_of_reviews</th>\n",
       "    </tr>\n",
       "  </thead>\n",
       "  <tbody>\n",
       "    <tr>\n",
       "      <th>0</th>\n",
       "      <td>Allerton</td>\n",
       "      <td>41</td>\n",
       "    </tr>\n",
       "    <tr>\n",
       "      <th>1</th>\n",
       "      <td>Arden Heights</td>\n",
       "      <td>4</td>\n",
       "    </tr>\n",
       "    <tr>\n",
       "      <th>2</th>\n",
       "      <td>Arrochar</td>\n",
       "      <td>23</td>\n",
       "    </tr>\n",
       "    <tr>\n",
       "      <th>3</th>\n",
       "      <td>Arverne</td>\n",
       "      <td>86</td>\n",
       "    </tr>\n",
       "    <tr>\n",
       "      <th>4</th>\n",
       "      <td>Astoria</td>\n",
       "      <td>926</td>\n",
       "    </tr>\n",
       "  </tbody>\n",
       "</table>\n",
       "</div>"
      ],
      "text/plain": [
       "    neighborhood number_of_reviews\n",
       "0       Allerton                41\n",
       "1  Arden Heights                 4\n",
       "2       Arrochar                23\n",
       "3        Arverne                86\n",
       "4        Astoria               926"
      ]
     },
     "execution_count": 95,
     "metadata": {},
     "output_type": "execute_result"
    }
   ],
   "source": [
    "review_data = pd.DataFrame(columns=['neighborhood', 'number_of_reviews'])\n",
    "\n",
    "for name, group in newyork_data.groupby('neighborhood'):\n",
    "    review_data.loc[len(review_data)] = [name, group['number_of_reviews'].count()]\n",
    "\n",
    "\n",
    "# review_data.to_csv('review_data.csv', index=False)\n",
    "review_data.head()"
   ]
  },
  {
   "cell_type": "code",
   "execution_count": 90,
   "metadata": {},
   "outputs": [
    {
     "name": "stderr",
     "output_type": "stream",
     "text": [
      "/anaconda3/lib/python3.7/site-packages/ipykernel_launcher.py:2: SettingWithCopyWarning: \n",
      "A value is trying to be set on a copy of a slice from a DataFrame.\n",
      "Try using .loc[row_indexer,col_indexer] = value instead\n",
      "\n",
      "See the caveats in the documentation: http://pandas.pydata.org/pandas-docs/stable/indexing.html#indexing-view-versus-copy\n",
      "  \n",
      "/anaconda3/lib/python3.7/site-packages/pandas/core/generic.py:6130: SettingWithCopyWarning: \n",
      "A value is trying to be set on a copy of a slice from a DataFrame\n",
      "\n",
      "See the caveats in the documentation: http://pandas.pydata.org/pandas-docs/stable/indexing.html#indexing-view-versus-copy\n",
      "  self._update_inplace(new_data)\n"
     ]
    },
    {
     "data": {
      "text/html": [
       "<div>\n",
       "<style scoped>\n",
       "    .dataframe tbody tr th:only-of-type {\n",
       "        vertical-align: middle;\n",
       "    }\n",
       "\n",
       "    .dataframe tbody tr th {\n",
       "        vertical-align: top;\n",
       "    }\n",
       "\n",
       "    .dataframe thead th {\n",
       "        text-align: right;\n",
       "    }\n",
       "</style>\n",
       "<table border=\"1\" class=\"dataframe\">\n",
       "  <thead>\n",
       "    <tr style=\"text-align: right;\">\n",
       "      <th></th>\n",
       "      <th>latitude</th>\n",
       "      <th>longitude</th>\n",
       "      <th>price</th>\n",
       "      <th>reviews_per_month</th>\n",
       "    </tr>\n",
       "  </thead>\n",
       "  <tbody>\n",
       "    <tr>\n",
       "      <th>0</th>\n",
       "      <td>40.75362</td>\n",
       "      <td>-73.98377</td>\n",
       "      <td>225.0</td>\n",
       "      <td>0.39</td>\n",
       "    </tr>\n",
       "    <tr>\n",
       "      <th>1</th>\n",
       "      <td>40.80902</td>\n",
       "      <td>-73.94190</td>\n",
       "      <td>150.0</td>\n",
       "      <td>0.00</td>\n",
       "    </tr>\n",
       "    <tr>\n",
       "      <th>2</th>\n",
       "      <td>40.68514</td>\n",
       "      <td>-73.95976</td>\n",
       "      <td>89.0</td>\n",
       "      <td>4.64</td>\n",
       "    </tr>\n",
       "    <tr>\n",
       "      <th>3</th>\n",
       "      <td>40.79851</td>\n",
       "      <td>-73.94399</td>\n",
       "      <td>80.0</td>\n",
       "      <td>0.10</td>\n",
       "    </tr>\n",
       "    <tr>\n",
       "      <th>4</th>\n",
       "      <td>40.74767</td>\n",
       "      <td>-73.97500</td>\n",
       "      <td>200.0</td>\n",
       "      <td>0.60</td>\n",
       "    </tr>\n",
       "  </tbody>\n",
       "</table>\n",
       "</div>"
      ],
      "text/plain": [
       "   latitude  longitude  price  reviews_per_month\n",
       "0  40.75362  -73.98377  225.0               0.39\n",
       "1  40.80902  -73.94190  150.0               0.00\n",
       "2  40.68514  -73.95976   89.0               4.64\n",
       "3  40.79851  -73.94399   80.0               0.10\n",
       "4  40.74767  -73.97500  200.0               0.60"
      ]
     },
     "execution_count": 90,
     "metadata": {},
     "output_type": "execute_result"
    }
   ],
   "source": [
    "estimate = newyork_data[['latitude','longitude', 'price','reviews_per_month']]\n",
    "estimate['price'] = estimate['price'].replace( '[\\$,)]','', regex=True ).astype(float)\n",
    "estimate['reviews_per_month'].fillna(0,inplace=True)\n",
    "eatimate = estimate[np.isfinite(estimate['price'])]\n",
    "eatimate.head()\n"
   ]
  },
  {
   "cell_type": "code",
   "execution_count": 91,
   "metadata": {},
   "outputs": [],
   "source": [
    "estimate.to_csv('estimate.csv', index=False)"
   ]
  },
  {
   "cell_type": "code",
   "execution_count": 92,
   "metadata": {},
   "outputs": [
    {
     "data": {
      "text/plain": [
       "'[{\"neighborhood\":\"Allerton\",\"avg_price\":91.3658536585},{\"neighborhood\":\"Arden Heights\",\"avg_price\":67.25},{\"neighborhood\":\"Arrochar\",\"avg_price\":112.3043478261},{\"neighborhood\":\"Arverne\",\"avg_price\":173.488372093},{\"neighborhood\":\"Astoria\",\"avg_price\":114.1544276458},{\"neighborhood\":\"Bath Beach\",\"avg_price\":84.5},{\"neighborhood\":\"Battery Park City\",\"avg_price\":365.25},{\"neighborhood\":\"Bay Ridge\",\"avg_price\":135.5705521472},{\"neighborhood\":\"Bay Terrace\",\"avg_price\":322.7142857143},{\"neighborhood\":\"Bay Terrace, Staten Island\",\"avg_price\":102.5},{\"neighborhood\":\"Baychester\",\"avg_price\":75.4285714286},{\"neighborhood\":\"Bayside\",\"avg_price\":90.6153846154},{\"neighborhood\":\"Bayswater\",\"avg_price\":88.7222222222},{\"neighborhood\":\"Bedford-Stuyvesant\",\"avg_price\":107.8173612955},{\"neighborhood\":\"Belle Harbor\",\"avg_price\":139.6666666667},{\"neighborhood\":\"Bellerose\",\"avg_price\":72.3636363636},{\"neighborhood\":\"Belmont\",\"avg_price\":73.2413793103},{\"neighborhood\":\"Bensonhurst\",\"avg_price\":74.6049382716},{\"neighborhood\":\"Bergen Beach\",\"avg_price\":106.8333333333},{\"neighborhood\":\"Boerum Hill\",\"avg_price\":178.5321637427},{\"neighborhood\":\"Borough Park\",\"avg_price\":63.2301587302},{\"neighborhood\":\"Breezy Point\",\"avg_price\":213.3333333333},{\"neighborhood\":\"Briarwood\",\"avg_price\":114.9423076923},{\"neighborhood\":\"Brighton Beach\",\"avg_price\":158.7662337662},{\"neighborhood\":\"Bronxdale\",\"avg_price\":57.8888888889},{\"neighborhood\":\"Brooklyn Heights\",\"avg_price\":213.4836601307},{\"neighborhood\":\"Brownsville\",\"avg_price\":81.064516129},{\"neighborhood\":\"Bull\\'s Head\",\"avg_price\":48.0},{\"neighborhood\":\"Bushwick\",\"avg_price\":84.8986042693},{\"neighborhood\":\"Cambria Heights\",\"avg_price\":80.1428571429},{\"neighborhood\":\"Canarsie\",\"avg_price\":106.1095890411},{\"neighborhood\":\"Carroll Gardens\",\"avg_price\":174.0318181818},{\"neighborhood\":\"Castle Hill\",\"avg_price\":103.5},{\"neighborhood\":\"Castleton Corners\",\"avg_price\":161.8},{\"neighborhood\":\"Chelsea\",\"avg_price\":245.8978300181},{\"neighborhood\":\"Chinatown\",\"avg_price\":162.5989304813},{\"neighborhood\":\"City Island\",\"avg_price\":106.9333333333},{\"neighborhood\":\"Civic Center\",\"avg_price\":176.4893617021},{\"neighborhood\":\"Claremont Village\",\"avg_price\":76.8461538462},{\"neighborhood\":\"Clason Point\",\"avg_price\":102.2631578947},{\"neighborhood\":\"Clifton\",\"avg_price\":83.0588235294},{\"neighborhood\":\"Clinton Hill\",\"avg_price\":179.6800699301},{\"neighborhood\":\"Co-op City\",\"avg_price\":71.25},{\"neighborhood\":\"Cobble Hill\",\"avg_price\":214.6326530612},{\"neighborhood\":\"College Point\",\"avg_price\":91.1},{\"neighborhood\":\"Columbia St\",\"avg_price\":160.5581395349},{\"neighborhood\":\"Concord\",\"avg_price\":60.4814814815},{\"neighborhood\":\"Concourse\",\"avg_price\":85.431372549},{\"neighborhood\":\"Concourse Village\",\"avg_price\":74.5294117647},{\"neighborhood\":\"Coney Island\",\"avg_price\":138.8571428571},{\"neighborhood\":\"Corona\",\"avg_price\":59.2153846154},{\"neighborhood\":\"Country Club\",\"avg_price\":1000.0},{\"neighborhood\":\"Crown Heights\",\"avg_price\":114.3752393108},{\"neighborhood\":\"Cypress Hills\",\"avg_price\":115.1942446043},{\"neighborhood\":\"DUMBO\",\"avg_price\":181.25},{\"neighborhood\":\"Ditmars Steinway\",\"avg_price\":96.7368421053},{\"neighborhood\":\"Dongan Hills\",\"avg_price\":79.4285714286},{\"neighborhood\":\"Douglaston\",\"avg_price\":85.4285714286},{\"neighborhood\":\"Downtown Brooklyn\",\"avg_price\":148.8533333333},{\"neighborhood\":\"Dyker Heights\",\"avg_price\":83.1875},{\"neighborhood\":\"East Elmhurst\",\"avg_price\":78.8210526316},{\"neighborhood\":\"East Flatbush\",\"avg_price\":106.1477732794},{\"neighborhood\":\"East Harlem\",\"avg_price\":138.7699275362},{\"neighborhood\":\"East Morrisania\",\"avg_price\":87.0},{\"neighborhood\":\"East New York\",\"avg_price\":83.3364485981},{\"neighborhood\":\"East Village\",\"avg_price\":184.3200215866},{\"neighborhood\":\"Eastchester\",\"avg_price\":143.1428571429},{\"neighborhood\":\"Edenwald\",\"avg_price\":76.1875},{\"neighborhood\":\"Edgemere\",\"avg_price\":94.7272727273},{\"neighborhood\":\"Elmhurst\",\"avg_price\":80.2209302326},{\"neighborhood\":\"Eltingville\",\"avg_price\":137.5},{\"neighborhood\":\"Emerson Hill\",\"avg_price\":68.2},{\"neighborhood\":\"Far Rockaway\",\"avg_price\":158.0357142857},{\"neighborhood\":\"Fieldston\",\"avg_price\":75.0833333333},{\"neighborhood\":\"Financial District\",\"avg_price\":241.218579235},{\"neighborhood\":\"Flatbush\",\"avg_price\":91.325732899},{\"neighborhood\":\"Flatiron District\",\"avg_price\":331.5316455696},{\"neighborhood\":\"Flatlands\",\"avg_price\":117.8636363636},{\"neighborhood\":\"Flushing\",\"avg_price\":96.3581395349},{\"neighborhood\":\"Fordham\",\"avg_price\":67.9841269841},{\"neighborhood\":\"Forest Hills\",\"avg_price\":122.1733333333},{\"neighborhood\":\"Fort Greene\",\"avg_price\":150.9566115702},{\"neighborhood\":\"Fort Hamilton\",\"avg_price\":99.8474576271},{\"neighborhood\":\"Fort Wadsworth\",\"avg_price\":800.0},{\"neighborhood\":\"Fresh Meadows\",\"avg_price\":97.6944444444},{\"neighborhood\":\"Glendale\",\"avg_price\":81.0},{\"neighborhood\":\"Gowanus\",\"avg_price\":160.5483870968},{\"neighborhood\":\"Gramercy\",\"avg_price\":232.5953757225},{\"neighborhood\":\"Graniteville\",\"avg_price\":45.5},{\"neighborhood\":\"Grant City\",\"avg_price\":70.5555555556},{\"neighborhood\":\"Gravesend\",\"avg_price\":81.7101449275},{\"neighborhood\":\"Great Kills\",\"avg_price\":86.2222222222},{\"neighborhood\":\"Greenpoint\",\"avg_price\":145.4823209429},{\"neighborhood\":\"Greenwich Village\",\"avg_price\":258.7892030848},{\"neighborhood\":\"Grymes Hill\",\"avg_price\":148.2222222222},{\"neighborhood\":\"Harlem\",\"avg_price\":119.276789095},{\"neighborhood\":\"Hell\\'s Kitchen\",\"avg_price\":201.927067283},{\"neighborhood\":\"Highbridge\",\"avg_price\":72.5714285714},{\"neighborhood\":\"Hollis\",\"avg_price\":88.6428571429},{\"neighborhood\":\"Holliswood\",\"avg_price\":135.75},{\"neighborhood\":\"Howard Beach\",\"avg_price\":127.652173913},{\"neighborhood\":\"Howland Hook\",\"avg_price\":112.5},{\"neighborhood\":\"Huguenot\",\"avg_price\":118.3333333333},{\"neighborhood\":\"Hunts Point\",\"avg_price\":54.2105263158},{\"neighborhood\":\"Inwood\",\"avg_price\":87.8346774194},{\"neighborhood\":\"Jackson Heights\",\"avg_price\":80.4114583333},{\"neighborhood\":\"Jamaica\",\"avg_price\":94.5454545455},{\"neighborhood\":\"Jamaica Estates\",\"avg_price\":215.9333333333},{\"neighborhood\":\"Jamaica Hills\",\"avg_price\":122.8181818182},{\"neighborhood\":\"Kensington\",\"avg_price\":93.1193181818},{\"neighborhood\":\"Kew Gardens\",\"avg_price\":91.96875},{\"neighborhood\":\"Kew Gardens Hills\",\"avg_price\":146.7142857143},{\"neighborhood\":\"Kingsbridge\",\"avg_price\":84.2361111111},{\"neighborhood\":\"Kips Bay\",\"avg_price\":210.4170212766},{\"neighborhood\":\"Laurelton\",\"avg_price\":90.4545454545},{\"neighborhood\":\"Lighthouse Hill\",\"avg_price\":157.5},{\"neighborhood\":\"Little Italy\",\"avg_price\":232.075},{\"neighborhood\":\"Little Neck\",\"avg_price\":57.4},{\"neighborhood\":\"Long Island City\",\"avg_price\":126.6781818182},{\"neighborhood\":\"Longwood\",\"avg_price\":91.7903225806},{\"neighborhood\":\"Lower East Side\",\"avg_price\":189.5469798658},{\"neighborhood\":\"Manhattan Beach\",\"avg_price\":100.8},{\"neighborhood\":\"Marble Hill\",\"avg_price\":85.6153846154},{\"neighborhood\":\"Mariners Harbor\",\"avg_price\":94.625},{\"neighborhood\":\"Maspeth\",\"avg_price\":84.9296875},{\"neighborhood\":\"Melrose\",\"avg_price\":71.7272727273},{\"neighborhood\":\"Middle Village\",\"avg_price\":106.2058823529},{\"neighborhood\":\"Midland Beach\",\"avg_price\":99.3333333333},{\"neighborhood\":\"Midtown\",\"avg_price\":270.7656988521},{\"neighborhood\":\"Midwood\",\"avg_price\":81.6929824561},{\"neighborhood\":\"Mill Basin\",\"avg_price\":179.75},{\"neighborhood\":\"Morningside Heights\",\"avg_price\":114.2581602374},{\"neighborhood\":\"Morris Heights\",\"avg_price\":66.55},{\"neighborhood\":\"Morris Park\",\"avg_price\":80.625},{\"neighborhood\":\"Morrisania\",\"avg_price\":79.3},{\"neighborhood\":\"Mott Haven\",\"avg_price\":90.224137931},{\"neighborhood\":\"Mount Eden\",\"avg_price\":58.5},{\"neighborhood\":\"Mount Hope\",\"avg_price\":86.6},{\"neighborhood\":\"Murray Hill\",\"avg_price\":220.8340080972},{\"neighborhood\":\"Navy Yard\",\"avg_price\":152.5833333333},{\"neighborhood\":\"Neponsit\",\"avg_price\":274.6666666667},{\"neighborhood\":\"New Brighton\",\"avg_price\":103.4},{\"neighborhood\":\"New Dorp\",\"avg_price\":57.0},{\"neighborhood\":\"New Dorp Beach\",\"avg_price\":59.4},{\"neighborhood\":\"New Springville\",\"avg_price\":79.875},{\"neighborhood\":\"NoHo\",\"avg_price\":310.56},{\"neighborhood\":\"Nolita\",\"avg_price\":228.9770114943},{\"neighborhood\":\"North Riverdale\",\"avg_price\":77.3333333333},{\"neighborhood\":\"Norwood\",\"avg_price\":75.3142857143},{\"neighborhood\":\"Oakwood\",\"avg_price\":81.2},{\"neighborhood\":\"Olinville\",\"avg_price\":65.25},{\"neighborhood\":\"Ozone Park\",\"avg_price\":85.9692307692},{\"neighborhood\":\"Park Slope\",\"avg_price\":174.4343434343},{\"neighborhood\":\"Parkchester\",\"avg_price\":71.1707317073},{\"neighborhood\":\"Pelham Bay\",\"avg_price\":105.25},{\"neighborhood\":\"Pelham Gardens\",\"avg_price\":104.0333333333},{\"neighborhood\":\"Port Morris\",\"avg_price\":84.5319148936},{\"neighborhood\":\"Port Richmond\",\"avg_price\":52.8571428571},{\"neighborhood\":\"Prince\\'s Bay\",\"avg_price\":506.6666666667},{\"neighborhood\":\"Prospect Heights\",\"avg_price\":159.0},{\"neighborhood\":\"Prospect-Lefferts Gardens\",\"avg_price\":110.5574387947},{\"neighborhood\":\"Queens Village\",\"avg_price\":138.6},{\"neighborhood\":\"Randall Manor\",\"avg_price\":336.1578947368},{\"neighborhood\":\"Red Hook\",\"avg_price\":145.3717948718},{\"neighborhood\":\"Rego Park\",\"avg_price\":79.6741573034},{\"neighborhood\":\"Richmond Hill\",\"avg_price\":86.587628866},{\"neighborhood\":\"Richmondtown\",\"avg_price\":89.0},{\"neighborhood\":\"Ridgewood\",\"avg_price\":76.9613636364},{\"neighborhood\":\"Riverdale\",\"avg_price\":419.8333333333},{\"neighborhood\":\"Rockaway Beach\",\"avg_price\":134.1617647059},{\"neighborhood\":\"Roosevelt Island\",\"avg_price\":112.25},{\"neighborhood\":\"Rosebank\",\"avg_price\":114.6666666667},{\"neighborhood\":\"Rosedale\",\"avg_price\":70.6101694915},{\"neighborhood\":\"Rossville\",\"avg_price\":75.0},{\"neighborhood\":\"Schuylerville\",\"avg_price\":69.0769230769},{\"neighborhood\":\"Sea Gate\",\"avg_price\":491.6666666667},{\"neighborhood\":\"Sheepshead Bay\",\"avg_price\":102.8857142857},{\"neighborhood\":\"Shore Acres\",\"avg_price\":144.875},{\"neighborhood\":\"Silver Lake\",\"avg_price\":70.0},{\"neighborhood\":\"SoHo\",\"avg_price\":269.9800569801},{\"neighborhood\":\"Soundview\",\"avg_price\":53.4666666667},{\"neighborhood\":\"South Beach\",\"avg_price\":89.25},{\"neighborhood\":\"South Ozone Park\",\"avg_price\":75.0769230769},{\"neighborhood\":\"South Slope\",\"avg_price\":148.9494584838},{\"neighborhood\":\"Springfield Gardens\",\"avg_price\":94.8764044944},{\"neighborhood\":\"Spuyten Duyvil\",\"avg_price\":86.3333333333},{\"neighborhood\":\"St. Albans\",\"avg_price\":96.5694444444},{\"neighborhood\":\"St. George\",\"avg_price\":119.5098039216},{\"neighborhood\":\"Stapleton\",\"avg_price\":108.1818181818},{\"neighborhood\":\"Stuyvesant Town\",\"avg_price\":177.756097561},{\"neighborhood\":\"Sunnyside\",\"avg_price\":85.0514905149},{\"neighborhood\":\"Sunset Park\",\"avg_price\":114.0712468193},{\"neighborhood\":\"Theater District\",\"avg_price\":248.5774647887},{\"neighborhood\":\"Throgs Neck\",\"avg_price\":94.6666666667},{\"neighborhood\":\"Todt Hill\",\"avg_price\":169.0},{\"neighborhood\":\"Tompkinsville\",\"avg_price\":72.2093023256},{\"neighborhood\":\"Tottenville\",\"avg_price\":144.8571428571},{\"neighborhood\":\"Tremont\",\"avg_price\":51.5454545455},{\"neighborhood\":\"Tribeca\",\"avg_price\":475.3918128655},{\"neighborhood\":\"Two Bridges\",\"avg_price\":132.4782608696},{\"neighborhood\":\"Unionport\",\"avg_price\":145.6666666667},{\"neighborhood\":\"University Heights\",\"avg_price\":68.05},{\"neighborhood\":\"Upper East Side\",\"avg_price\":181.062606716},{\"neighborhood\":\"Upper West Side\",\"avg_price\":208.9072058061},{\"neighborhood\":\"Van Nest\",\"avg_price\":113.2727272727},{\"neighborhood\":\"Vinegar Hill\",\"avg_price\":197.6451612903},{\"neighborhood\":\"Wakefield\",\"avg_price\":87.5918367347},{\"neighborhood\":\"Washington Heights\",\"avg_price\":89.7513572204},{\"neighborhood\":\"West Brighton\",\"avg_price\":84.2105263158},{\"neighborhood\":\"West Farms\",\"avg_price\":122.0},{\"neighborhood\":\"West Village\",\"avg_price\":267.6396866841},{\"neighborhood\":\"Westchester Square\",\"avg_price\":117.7},{\"neighborhood\":\"Westerleigh\",\"avg_price\":71.5},{\"neighborhood\":\"Whitestone\",\"avg_price\":106.3846153846},{\"neighborhood\":\"Williamsbridge\",\"avg_price\":98.8571428571},{\"neighborhood\":\"Williamsburg\",\"avg_price\":143.051596424},{\"neighborhood\":\"Willowbrook\",\"avg_price\":299.0},{\"neighborhood\":\"Windsor Terrace\",\"avg_price\":137.8944099379},{\"neighborhood\":\"Woodhaven\",\"avg_price\":70.8181818182},{\"neighborhood\":\"Woodlawn\",\"avg_price\":59.6},{\"neighborhood\":\"Woodrow\",\"avg_price\":700.0},{\"neighborhood\":\"Woodside\",\"avg_price\":80.5857740586}]'"
      ]
     },
     "execution_count": 92,
     "metadata": {},
     "output_type": "execute_result"
    }
   ],
   "source": [
    "averages.to_json(orient='records')"
   ]
  },
  {
   "cell_type": "code",
   "execution_count": 93,
   "metadata": {},
   "outputs": [
    {
     "data": {
      "text/plain": [
       "'[{\"neighbourhood_group\":\"Bronx\",\"reviews_per_month\":1.8118630752},{\"neighbourhood_group\":\"Brooklyn\",\"reviews_per_month\":1.2889103188},{\"neighbourhood_group\":\"Manhattan\",\"reviews_per_month\":1.2363742904},{\"neighbourhood_group\":\"Queens\",\"reviews_per_month\":1.964027689},{\"neighbourhood_group\":\"Staten Island\",\"reviews_per_month\":1.8959756098},{\"neighbourhood_group\":\"Bronx\",\"reviews_per_month\":1.8118630752},{\"neighbourhood_group\":\"Brooklyn\",\"reviews_per_month\":1.2889103188},{\"neighbourhood_group\":\"Manhattan\",\"reviews_per_month\":1.2363742904},{\"neighbourhood_group\":\"Queens\",\"reviews_per_month\":1.964027689},{\"neighbourhood_group\":\"Staten Island\",\"reviews_per_month\":1.8959756098}]'"
      ]
     },
     "execution_count": 93,
     "metadata": {},
     "output_type": "execute_result"
    }
   ],
   "source": [
    "estimate = pd.DataFrame(columns=['neighborhood_group', 'reviews_per_month'])\n",
    "\n",
    "for name, group in newyork_data.groupby('neighborhood_group'):\n",
    "    monthly.loc[len(monthly)] = [name, group['reviews_per_month'].mean()]\n",
    "    \n",
    "monthly.to_json(orient='records')"
   ]
  },
  {
   "cell_type": "code",
   "execution_count": null,
   "metadata": {},
   "outputs": [],
   "source": []
  }
 ],
 "metadata": {
  "kernelspec": {
   "display_name": "Python 3",
   "language": "python",
   "name": "python3"
  },
  "language_info": {
   "codemirror_mode": {
    "name": "ipython",
    "version": 3
   },
   "file_extension": ".py",
   "mimetype": "text/x-python",
   "name": "python",
   "nbconvert_exporter": "python",
   "pygments_lexer": "ipython3",
   "version": "3.7.3"
  }
 },
 "nbformat": 4,
 "nbformat_minor": 2
}
